{
 "cells": [
  {
   "cell_type": "code",
   "execution_count": 1,
   "metadata": {},
   "outputs": [],
   "source": [
    "# CSCI 1133, Lab Section 013, HW8 Jeffery Liu, liu00614 Worksheet 1 Cars\n",
    "# Partner: Colton Werner, werner486, Lab Section 013"
   ]
  },
  {
   "cell_type": "code",
   "execution_count": 2,
   "metadata": {},
   "outputs": [
    {
     "data": {
      "text/plain": [
       "[16.859, 23.440]"
      ]
     },
     "execution_count": 2,
     "metadata": {},
     "output_type": "execute_result"
    }
   ],
   "source": [
    "# Task 1 – Worksheet 1\n",
    "# Purpose: Calculate the average miles per gallon (mpg) for city driving and the average mpg for highway driving.\n",
    "# Output: A list with two floats will be created. The first float will be the average mpg for city driving and the\n",
    "#    second the average mpg for highway driving. Your list must be the final thing displayed.\n",
    "\n",
    "import csv\n",
    "%precision 3\n",
    "\n",
    "with open('cars_mpg.csv') as f:\n",
    "    mpg = list(csv.DictReader(f))\n",
    "\n",
    "# Testing stuff:\n",
    "# print(mpg[0].keys())\n",
    "# print('cty: {}, hwy: {}'.format(mpg[0]['cty'], mpg[0]['hwy']))\n",
    "\n",
    "# New lists to keep track of city and highway mileages\n",
    "cty_mpgs = []\n",
    "hwy_mpgs = []\n",
    "\n",
    "# Loop through each line of csv, append the city and highway mileages to their respective lists.\n",
    "for car in mpg:\n",
    "    cty_mpgs.append(int(car['cty']))\n",
    "    hwy_mpgs.append(int(car['hwy']))\n",
    "\n",
    "\n",
    "# Testing stuff:\n",
    "# print(cty_mpgs)\n",
    "# print(hwy_mpgs)\n",
    "\n",
    "# [average city mpg, average highway mpg]\n",
    "[sum(cty_mpgs)/len(cty_mpgs), sum(hwy_mpgs)/len(hwy_mpgs)]\n"
   ]
  },
  {
   "cell_type": "code",
   "execution_count": 3,
   "metadata": {},
   "outputs": [
    {
     "data": {
      "text/plain": [
       "{'allude',\n",
       " 'chevron',\n",
       " 'doggie',\n",
       " 'freeway',\n",
       " 'honda',\n",
       " 'hyundai',\n",
       " 'jeep',\n",
       " 'land rover',\n",
       " 'lincoln',\n",
       " 'mercury',\n",
       " 'nissan',\n",
       " 'silver',\n",
       " 'subbie',\n",
       " 'tinker',\n",
       " 'volks'}"
      ]
     },
     "execution_count": 3,
     "metadata": {},
     "output_type": "execute_result"
    }
   ],
   "source": [
    "# Task 2 – Worksheet 1\n",
    "\n",
    "# Purpose: Produce the set of car manufacturers.\n",
    "# Output: A set with the string names of car manufacturers\n",
    "\n",
    "manufacturers = set(car['manufacturer'] for car in mpg)\n",
    "manufacturers"
   ]
  },
  {
   "cell_type": "code",
   "execution_count": 4,
   "metadata": {},
   "outputs": [
    {
     "data": {
      "text/plain": [
       "[[13.250,\n",
       "  18.529,\n",
       "  14.000,\n",
       "  13.135,\n",
       "  11.500,\n",
       "  18.643,\n",
       "  19.286,\n",
       "  20.926,\n",
       "  17.000,\n",
       "  11.333,\n",
       "  24.444,\n",
       "  13.500,\n",
       "  17.611,\n",
       "  15.000,\n",
       "  18.077],\n",
       " [18.000,\n",
       "  24.912,\n",
       "  19.360,\n",
       "  17.946,\n",
       "  16.500,\n",
       "  26.857,\n",
       "  25.571,\n",
       "  29.222,\n",
       "  26.400,\n",
       "  17.000,\n",
       "  32.556,\n",
       "  17.625,\n",
       "  26.444,\n",
       "  21.895,\n",
       "  24.615]]"
      ]
     },
     "execution_count": 4,
     "metadata": {},
     "output_type": "execute_result"
    }
   ],
   "source": [
    "# Task 3 – Worksheet 1\n",
    "# Purpose: Calculate average mpg for city driving and average mpg for hwy driving for each manufacturer.\n",
    "# Output: A list of two lists, the first one a list for cty, the second for hwy\n",
    "\n",
    "cty_mpgs_by_manu = []\n",
    "hwy_mpgs_by_manu = []\n",
    "for manufacturer in manufacturers:\n",
    "    x = [int(car['cty']) for car in mpg if car['manufacturer'] == manufacturer]\n",
    "    cty_mpgs_by_manu.append((manufacturer, sum(x)/len(x)))\n",
    "    y = [int(car['hwy']) for car in mpg if car['manufacturer'] == manufacturer]\n",
    "    hwy_mpgs_by_manu.append((manufacturer, sum(y)/len(y)))\n",
    "\n",
    "avg_mpgs_by_manu = [[x[1] for x in cty_mpgs_by_manu], [x[1] for x in hwy_mpgs_by_manu]]\n",
    "avg_mpgs_by_manu\n"
   ]
  },
  {
   "cell_type": "code",
   "execution_count": 5,
   "metadata": {},
   "outputs": [
    {
     "data": {
      "text/plain": [
       "[[11.333,\n",
       "  11.500,\n",
       "  13.135,\n",
       "  13.250,\n",
       "  13.500,\n",
       "  14.000,\n",
       "  15.000,\n",
       "  17.000,\n",
       "  17.611,\n",
       "  18.077,\n",
       "  18.529,\n",
       "  18.643,\n",
       "  19.286,\n",
       "  20.926,\n",
       "  24.444],\n",
       " [16.500,\n",
       "  17.000,\n",
       "  17.625,\n",
       "  17.946,\n",
       "  18.000,\n",
       "  19.360,\n",
       "  21.895,\n",
       "  24.615,\n",
       "  24.912,\n",
       "  25.571,\n",
       "  26.400,\n",
       "  26.444,\n",
       "  26.857,\n",
       "  29.222,\n",
       "  32.556]]"
      ]
     },
     "execution_count": 5,
     "metadata": {},
     "output_type": "execute_result"
    }
   ],
   "source": [
    "# Task 4 – Worksheet 1\n",
    "# Purpose: Sort the two list of averages above by mpg.\n",
    "# Output: A list of two lists, the first one a list for cty, the second for hwy, sorted by mpg\n",
    "\n",
    "for x in avg_mpgs_by_manu:\n",
    "    x.sort()\n",
    "\n",
    "avg_mpgs_by_manu"
   ]
  },
  {
   "cell_type": "code",
   "execution_count": 6,
   "metadata": {},
   "outputs": [
    {
     "data": {
      "text/html": [
       "<div>\n",
       "<style scoped>\n",
       "    .dataframe tbody tr th:only-of-type {\n",
       "        vertical-align: middle;\n",
       "    }\n",
       "\n",
       "    .dataframe tbody tr th {\n",
       "        vertical-align: top;\n",
       "    }\n",
       "\n",
       "    .dataframe thead th {\n",
       "        text-align: right;\n",
       "    }\n",
       "</style>\n",
       "<table border=\"1\" class=\"dataframe\">\n",
       "  <thead>\n",
       "    <tr style=\"text-align: right;\">\n",
       "      <th></th>\n",
       "      <th>manufacturer</th>\n",
       "      <th>model</th>\n",
       "      <th>displ</th>\n",
       "      <th>year</th>\n",
       "      <th>cyl</th>\n",
       "      <th>trans</th>\n",
       "      <th>drv</th>\n",
       "      <th>cty</th>\n",
       "      <th>hwy</th>\n",
       "      <th>fl</th>\n",
       "      <th>class</th>\n",
       "    </tr>\n",
       "  </thead>\n",
       "  <tbody>\n",
       "    <tr>\n",
       "      <th>1</th>\n",
       "      <td>allude</td>\n",
       "      <td>excel</td>\n",
       "      <td>1.8</td>\n",
       "      <td>1999</td>\n",
       "      <td>4</td>\n",
       "      <td>auto(l5)</td>\n",
       "      <td>f</td>\n",
       "      <td>18</td>\n",
       "      <td>29</td>\n",
       "      <td>p</td>\n",
       "      <td>compact</td>\n",
       "    </tr>\n",
       "    <tr>\n",
       "      <th>2</th>\n",
       "      <td>allude</td>\n",
       "      <td>excel</td>\n",
       "      <td>1.8</td>\n",
       "      <td>1999</td>\n",
       "      <td>4</td>\n",
       "      <td>manual(m5)</td>\n",
       "      <td>f</td>\n",
       "      <td>21</td>\n",
       "      <td>29</td>\n",
       "      <td>p</td>\n",
       "      <td>compact</td>\n",
       "    </tr>\n",
       "    <tr>\n",
       "      <th>3</th>\n",
       "      <td>allude</td>\n",
       "      <td>excel</td>\n",
       "      <td>2.0</td>\n",
       "      <td>2008</td>\n",
       "      <td>4</td>\n",
       "      <td>manual(m6)</td>\n",
       "      <td>f</td>\n",
       "      <td>20</td>\n",
       "      <td>31</td>\n",
       "      <td>p</td>\n",
       "      <td>compact</td>\n",
       "    </tr>\n",
       "    <tr>\n",
       "      <th>4</th>\n",
       "      <td>allude</td>\n",
       "      <td>excel</td>\n",
       "      <td>2.0</td>\n",
       "      <td>2008</td>\n",
       "      <td>4</td>\n",
       "      <td>auto(av)</td>\n",
       "      <td>f</td>\n",
       "      <td>21</td>\n",
       "      <td>30</td>\n",
       "      <td>p</td>\n",
       "      <td>compact</td>\n",
       "    </tr>\n",
       "    <tr>\n",
       "      <th>5</th>\n",
       "      <td>allude</td>\n",
       "      <td>excel</td>\n",
       "      <td>2.8</td>\n",
       "      <td>1999</td>\n",
       "      <td>6</td>\n",
       "      <td>auto(l5)</td>\n",
       "      <td>f</td>\n",
       "      <td>16</td>\n",
       "      <td>26</td>\n",
       "      <td>p</td>\n",
       "      <td>compact</td>\n",
       "    </tr>\n",
       "  </tbody>\n",
       "</table>\n",
       "</div>"
      ],
      "text/plain": [
       "  manufacturer  model  displ  year  cyl       trans drv  cty  hwy fl    class\n",
       "1       allude  excel    1.8  1999    4    auto(l5)   f   18   29  p  compact\n",
       "2       allude  excel    1.8  1999    4  manual(m5)   f   21   29  p  compact\n",
       "3       allude  excel    2.0  2008    4  manual(m6)   f   20   31  p  compact\n",
       "4       allude  excel    2.0  2008    4    auto(av)   f   21   30  p  compact\n",
       "5       allude  excel    2.8  1999    6    auto(l5)   f   16   26  p  compact"
      ]
     },
     "execution_count": 6,
     "metadata": {},
     "output_type": "execute_result"
    }
   ],
   "source": [
    "# Task 5 – Worksheet 1\n",
    "# Purpose: Import the csv file as a pandas DataFrame object. Display the head.\n",
    "# Output: Head (first five lines) of the DataFrame\n",
    "\n",
    "import pandas as pd\n",
    "\n",
    "df = pd.read_csv('cars_mpg.csv', index_col = 0)\n",
    "\n",
    "df.head()"
   ]
  },
  {
   "cell_type": "code",
   "execution_count": 7,
   "metadata": {},
   "outputs": [
    {
     "data": {
      "text/plain": [
       "[35, 44]"
      ]
     },
     "execution_count": 7,
     "metadata": {},
     "output_type": "execute_result"
    }
   ],
   "source": [
    "# Task 6 – Worksheet 1\n",
    "# Purpose: Find the maximum value for both cty and hwy, using the DataFrame structure.\n",
    "# Output: A list of two int64, the first the max mileage for cty, and the second max mileage for highway.\n",
    "\n",
    "[max(df['cty']), max(df['hwy'])]"
   ]
  },
  {
   "cell_type": "code",
   "execution_count": 8,
   "metadata": {},
   "outputs": [
    {
     "data": {
      "text/html": [
       "<div>\n",
       "<style scoped>\n",
       "    .dataframe tbody tr th:only-of-type {\n",
       "        vertical-align: middle;\n",
       "    }\n",
       "\n",
       "    .dataframe tbody tr th {\n",
       "        vertical-align: top;\n",
       "    }\n",
       "\n",
       "    .dataframe thead th {\n",
       "        text-align: right;\n",
       "    }\n",
       "</style>\n",
       "<table border=\"1\" class=\"dataframe\">\n",
       "  <thead>\n",
       "    <tr style=\"text-align: right;\">\n",
       "      <th></th>\n",
       "      <th>mpg_city</th>\n",
       "      <th>mpg_highway</th>\n",
       "    </tr>\n",
       "  </thead>\n",
       "  <tbody>\n",
       "    <tr>\n",
       "      <th></th>\n",
       "      <td>16.859</td>\n",
       "      <td>23.44</td>\n",
       "    </tr>\n",
       "  </tbody>\n",
       "</table>\n",
       "</div>"
      ],
      "text/plain": [
       "  mpg_city  mpg_highway\n",
       "    16.859        23.44"
      ]
     },
     "execution_count": 8,
     "metadata": {},
     "output_type": "execute_result"
    }
   ],
   "source": [
    "# Task 7 – Worksheet 1\n",
    "# Purpose: Find the average value for both cty and hwy, using the DataFrame structure.\n",
    "# Output: A DataFrame, with column headings 'mpg_city' and 'mpg_highway', with the respective average below in the\n",
    "#    first row.\n",
    "\n",
    "pd.set_option('precision', 3)\n",
    "\n",
    "avg_in_a_Series = pd.DataFrame({'mpg_city': sum(df['cty']) / len(df['cty']),\n",
    "                                'mpg_highway': sum(df['hwy']) / len(df['hwy'])}, index = [''])\n",
    "avg_in_a_Series\n"
   ]
  },
  {
   "cell_type": "code",
   "execution_count": 12,
   "metadata": {},
   "outputs": [
    {
     "data": {
      "text/plain": [
       "<matplotlib.axes._subplots.AxesSubplot at 0x11f9414e0>"
      ]
     },
     "execution_count": 12,
     "metadata": {},
     "output_type": "execute_result"
    },
    {
     "data": {
      "image/png": "[encoded data removed]",
      "text/plain": [
       "<Figure size 432x288 with 1 Axes>"
      ]
     },
     "metadata": {
      "needs_background": "light"
     },
     "output_type": "display_data"
    }
   ],
   "source": [
    "# Task 8 – Worksheet 1\n",
    "# Purpose: Plot the mpg for highway driving using the DataFrame structure.\n",
    "# Output: A plot of mpg.\n",
    "\n",
    "# Histogram plot of hwy mileage by frequency of occurence.\n",
    "df['hwy'].plot.hist(bins = 32, title = 'Highway Mileage')\n"
   ]
  },
  {
   "cell_type": "code",
   "execution_count": 10,
   "metadata": {},
   "outputs": [
    {
     "data": {
      "text/plain": [
       "<matplotlib.axes._subplots.AxesSubplot at 0x11f642048>"
      ]
     },
     "execution_count": 10,
     "metadata": {},
     "output_type": "execute_result"
    },
    {
     "data": {
      "image/png": "[encoded data removed]",
      "text/plain": [
       "<Figure size 432x288 with 1 Axes>"
      ]
     },
     "metadata": {
      "needs_background": "light"
     },
     "output_type": "display_data"
    }
   ],
   "source": [
    "# Bar plot of avg hwy mileage, grouped by manufacturer.\n",
    "group_manu = df.groupby('manufacturer')\n",
    "avg_group_manu = group_manu['hwy'].sum() / group_manu['hwy'].count()\n",
    "avg_group_manu.plot.bar(title = 'Average Highway Mileage Sorted by Manufacturer')\n"
   ]
  },
  {
   "cell_type": "code",
   "execution_count": 11,
   "metadata": {},
   "outputs": [
    {
     "data": {
      "text/plain": [
       "<matplotlib.axes._subplots.AxesSubplot at 0x11f6b9c50>"
      ]
     },
     "execution_count": 11,
     "metadata": {},
     "output_type": "execute_result"
    },
    {
     "data": {
      "image/png": "[encoded data removed]",
      "text/plain": [
       "<Figure size 432x288 with 1 Axes>"
      ]
     },
     "metadata": {
      "needs_background": "light"
     },
     "output_type": "display_data"
    }
   ],
   "source": [
    "# Bar plot of mileage by index in the DataFrame.\n",
    "df['hwy'].plot.bar(title = 'Highway Mileage by Index')\n"
   ]
  },
  {
   "cell_type": "code",
   "execution_count": null,
   "metadata": {},
   "outputs": [],
   "source": []
  }
 ],
 "metadata": {
  "kernelspec": {
   "display_name": "Python 3",
   "language": "python",
   "name": "python3"
  },
  "language_info": {
   "codemirror_mode": {
    "name": "ipython",
    "version": 3
   },
   "file_extension": ".py",
   "mimetype": "text/x-python",
   "name": "python",
   "nbconvert_exporter": "python",
   "pygments_lexer": "ipython3",
   "version": "3.7.3"
  }
 },
 "nbformat": 4,
 "nbformat_minor": 2
}
